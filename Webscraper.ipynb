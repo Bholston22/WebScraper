{
 "cells": [
  {
   "cell_type": "code",
   "execution_count": 3,
   "id": "8c3dfca0",
   "metadata": {},
   "outputs": [],
   "source": [
    "import requests\n",
    "import pandas as pd\n",
    "import csv\n",
    "from bs4 import BeautifulSoup\n",
    "import re"
   ]
  },
  {
   "cell_type": "code",
   "execution_count": 4,
   "id": "c1a62c5b",
   "metadata": {},
   "outputs": [
    {
     "name": "stdout",
     "output_type": "stream",
     "text": [
      "Faculty information has been scraped and saved to faculty_info.csv.\n"
     ]
    }
   ],
   "source": [
    "#stating url\n",
    "url = 'https://www.shepherd.edu/cme/staff'\n",
    "\n",
    "response = requests.get(url)\n",
    "#check to see if successful\n",
    "if response.status_code == 200:\n",
    "    \n",
    "    soup = BeautifulSoup(response.text, 'html.parser')\n",
    "\n",
    "    faculty_data = []\n",
    "    #looked at the source code to determine which class and location\n",
    "    for faculty in soup.find_all('div', class_=\"inner\"):\n",
    "        faculty_info = {}\n",
    "        #name\n",
    "        name_elem = faculty.find('h2')\n",
    "        faculty_info['Name'] = name_elem.text.strip() if name_elem else ''\n",
    "        \n",
    "        #title\n",
    "        title = faculty.find('td')\n",
    "        if title:\n",
    "            faculty_info['Title'] = title.text.strip()\n",
    "        else:\n",
    "            faculty_info['Title'] = \"Title not found\"\n",
    "       #email     \n",
    "        email_link = faculty.find('a', href=True, text='Email')\n",
    "        if email_link:\n",
    "            faculty_info['Email'] = email_link['href'].replace('mailto:', '')\n",
    "        else:\n",
    "            faculty_info['Email'] = \"Email not found\"\n",
    "        #phone since they all don't have a number you have to use re   \n",
    "        phone_pattern = re.compile(r'\\b\\d{3}[-.\\s]?\\d{3}[-.\\s]?\\d{4}\\b')\n",
    "        td_elements = faculty.find_all('td')\n",
    "        if len (td_elements)>=3:\n",
    "                phone_match = phone_pattern.search(td_elements[2].text)\n",
    "                 \n",
    "                if phone_match:\n",
    "                    faculty_info['Phone'] = phone_match.group()\n",
    "                else:\n",
    "                    faculty_info['Phone'] = \"Phone not found\"\n",
    "        #putting the data into frame\n",
    "        faculty_data.append(faculty_info)\n",
    "\n",
    "    \n",
    "    faculty_df = pd.DataFrame(faculty_data)\n",
    "\n",
    "    # Write the data to a CSV file\n",
    "    csv_file = 'faculty_info.csv'\n",
    "    faculty_df.to_csv(csv_file, index=False)\n",
    "\n",
    "    print(f\"Faculty information has been scraped and saved to {csv_file}.\")\n",
    "else:\n",
    "    print(f\"Failed to retrieve data. Status code: {response.status_code}\")\n"
   ]
  }
 ],
 "metadata": {
  "kernelspec": {
   "display_name": "Python 3 (ipykernel)",
   "language": "python",
   "name": "python3"
  },
  "language_info": {
   "codemirror_mode": {
    "name": "ipython",
    "version": 3
   },
   "file_extension": ".py",
   "mimetype": "text/x-python",
   "name": "python",
   "nbconvert_exporter": "python",
   "pygments_lexer": "ipython3",
   "version": "3.10.2"
  }
 },
 "nbformat": 4,
 "nbformat_minor": 5
}
